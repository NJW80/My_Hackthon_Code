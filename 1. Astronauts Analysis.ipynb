{
 "cells": [
  {
   "cell_type": "markdown",
   "metadata": {},
   "source": [
    "# Astronauts\n",
    "\n",
    "# This notebook is from a data hackathon/workshop based on space data \n",
    "## The session was hosted by count.co in London on 20th Feb 2019\n",
    "- Any code already given in the prepared notebooks by count.co is labelled with GIVEN CODE:\n",
    "- Any code written by me is labelled with MY CODE:\n",
    "    \n",
    "My code includes investigating and cleansing then data as well as performing feature engineering and completing \n",
    "the challenges set by count.co as part of the hackathon/workshop"
   ]
  },
  {
   "cell_type": "code",
   "execution_count": 1,
   "metadata": {},
   "outputs": [],
   "source": [
    "# GIVEN CODE:\n",
    "import pandas as pd\n",
    "import numpy as np\n",
    "from numpy import nan\n",
    "import os\n",
    "import requests\n",
    "import io"
   ]
  },
  {
   "cell_type": "code",
   "execution_count": 2,
   "metadata": {},
   "outputs": [
    {
     "data": {
      "text/plain": [
       "['.ipynb_checkpoints',\n",
       " 'astronauts.csv',\n",
       " 'astronauts_raw_data.csv',\n",
       " 'exoplanets.csv',\n",
       " 'Fireball Reports.csv',\n",
       " 'Fireball_Reports.csv',\n",
       " 'Meteorite_Landings.csv',\n",
       " 'SolarSystemAndEarthquakes.csv',\n",
       " 'UFO_Sightings_Global.csv',\n",
       " 'UFO_Sightings_Global.csv.zip',\n",
       " '__MACOSX']"
      ]
     },
     "execution_count": 2,
     "metadata": {},
     "output_type": "execute_result"
    }
   ],
   "source": [
    "# GIVEN CODE:\n",
    "filepath = os.path.join(\"..\",\"Data\")\n",
    "[f for f in os.listdir(filepath)]"
   ]
  },
  {
   "cell_type": "code",
   "execution_count": 3,
   "metadata": {},
   "outputs": [],
   "source": [
    "# MY CODE:\n",
    "\n",
    "# First time reading in the data get it from the github account then save it locally in case the data is removed \n",
    "\n",
    "# astro = pd.read_csv(\"https://media.githubusercontent.com/media/count/hackathons/master/Space/Data/astronauts.csv\")\n",
    "# astro.to_csv(\"..\\\\Data\\\\astronauts_raw_data.csv\", index=False)\n",
    "\n",
    "astro = pd.read_csv(os.path.join(filepath,\"astronauts_raw_data.csv\"))"
   ]
  },
  {
   "cell_type": "markdown",
   "metadata": {},
   "source": [
    "### 1. Getting to know your data"
   ]
  },
  {
   "cell_type": "code",
   "execution_count": 4,
   "metadata": {},
   "outputs": [
    {
     "data": {
      "text/html": [
       "<div>\n",
       "<style scoped>\n",
       "    .dataframe tbody tr th:only-of-type {\n",
       "        vertical-align: middle;\n",
       "    }\n",
       "\n",
       "    .dataframe tbody tr th {\n",
       "        vertical-align: top;\n",
       "    }\n",
       "\n",
       "    .dataframe thead th {\n",
       "        text-align: right;\n",
       "    }\n",
       "</style>\n",
       "<table border=\"1\" class=\"dataframe\">\n",
       "  <thead>\n",
       "    <tr style=\"text-align: right;\">\n",
       "      <th></th>\n",
       "      <th>Name</th>\n",
       "      <th>Year</th>\n",
       "      <th>Group</th>\n",
       "      <th>Status</th>\n",
       "      <th>Birth Date</th>\n",
       "      <th>Birth Place</th>\n",
       "      <th>Gender</th>\n",
       "      <th>Alma Mater</th>\n",
       "      <th>Undergraduate Major</th>\n",
       "      <th>Graduate Major</th>\n",
       "      <th>Military Rank</th>\n",
       "      <th>Military Branch</th>\n",
       "      <th>Space Flights</th>\n",
       "      <th>Space Flight (hr)</th>\n",
       "      <th>Space Walks</th>\n",
       "      <th>Space Walks (hr)</th>\n",
       "      <th>Missions</th>\n",
       "      <th>Death Date</th>\n",
       "      <th>Death Mission</th>\n",
       "    </tr>\n",
       "  </thead>\n",
       "  <tbody>\n",
       "    <tr>\n",
       "      <th>0</th>\n",
       "      <td>Joseph M. Acaba</td>\n",
       "      <td>2004.0</td>\n",
       "      <td>19.0</td>\n",
       "      <td>Active</td>\n",
       "      <td>5/17/1967</td>\n",
       "      <td>Inglewood, CA</td>\n",
       "      <td>Male</td>\n",
       "      <td>University of California-Santa Barbara; Univer...</td>\n",
       "      <td>Geology</td>\n",
       "      <td>Geology</td>\n",
       "      <td>NaN</td>\n",
       "      <td>NaN</td>\n",
       "      <td>2</td>\n",
       "      <td>3307</td>\n",
       "      <td>2</td>\n",
       "      <td>13.0</td>\n",
       "      <td>STS-119 (Discovery), ISS-31/32 (Soyuz)</td>\n",
       "      <td>NaN</td>\n",
       "      <td>NaN</td>\n",
       "    </tr>\n",
       "    <tr>\n",
       "      <th>1</th>\n",
       "      <td>Loren W. Acton</td>\n",
       "      <td>NaN</td>\n",
       "      <td>NaN</td>\n",
       "      <td>Retired</td>\n",
       "      <td>3/7/1936</td>\n",
       "      <td>Lewiston, MT</td>\n",
       "      <td>Male</td>\n",
       "      <td>Montana State University; University of Colorado</td>\n",
       "      <td>Engineering Physics</td>\n",
       "      <td>Solar Physics</td>\n",
       "      <td>NaN</td>\n",
       "      <td>NaN</td>\n",
       "      <td>1</td>\n",
       "      <td>190</td>\n",
       "      <td>0</td>\n",
       "      <td>0.0</td>\n",
       "      <td>STS 51-F (Challenger)</td>\n",
       "      <td>NaN</td>\n",
       "      <td>NaN</td>\n",
       "    </tr>\n",
       "    <tr>\n",
       "      <th>2</th>\n",
       "      <td>James C. Adamson</td>\n",
       "      <td>1984.0</td>\n",
       "      <td>10.0</td>\n",
       "      <td>Retired</td>\n",
       "      <td>3/3/1946</td>\n",
       "      <td>Warsaw, NY</td>\n",
       "      <td>Male</td>\n",
       "      <td>US Military Academy; Princeton University</td>\n",
       "      <td>Engineering</td>\n",
       "      <td>Aerospace Engineering</td>\n",
       "      <td>Colonel</td>\n",
       "      <td>US Army (Retired)</td>\n",
       "      <td>2</td>\n",
       "      <td>334</td>\n",
       "      <td>0</td>\n",
       "      <td>0.0</td>\n",
       "      <td>STS-28 (Columbia), STS-43 (Atlantis)</td>\n",
       "      <td>NaN</td>\n",
       "      <td>NaN</td>\n",
       "    </tr>\n",
       "  </tbody>\n",
       "</table>\n",
       "</div>"
      ],
      "text/plain": [
       "               Name    Year  Group   Status Birth Date    Birth Place Gender  \\\n",
       "0   Joseph M. Acaba  2004.0   19.0   Active  5/17/1967  Inglewood, CA   Male   \n",
       "1    Loren W. Acton     NaN    NaN  Retired   3/7/1936   Lewiston, MT   Male   \n",
       "2  James C. Adamson  1984.0   10.0  Retired   3/3/1946     Warsaw, NY   Male   \n",
       "\n",
       "                                          Alma Mater  Undergraduate Major  \\\n",
       "0  University of California-Santa Barbara; Univer...              Geology   \n",
       "1   Montana State University; University of Colorado  Engineering Physics   \n",
       "2          US Military Academy; Princeton University          Engineering   \n",
       "\n",
       "          Graduate Major Military Rank    Military Branch  Space Flights  \\\n",
       "0                Geology           NaN                NaN              2   \n",
       "1          Solar Physics           NaN                NaN              1   \n",
       "2  Aerospace Engineering       Colonel  US Army (Retired)              2   \n",
       "\n",
       "   Space Flight (hr)  Space Walks  Space Walks (hr)  \\\n",
       "0               3307            2              13.0   \n",
       "1                190            0               0.0   \n",
       "2                334            0               0.0   \n",
       "\n",
       "                                 Missions Death Date Death Mission  \n",
       "0  STS-119 (Discovery), ISS-31/32 (Soyuz)        NaN           NaN  \n",
       "1                   STS 51-F (Challenger)        NaN           NaN  \n",
       "2    STS-28 (Columbia), STS-43 (Atlantis)        NaN           NaN  "
      ]
     },
     "execution_count": 4,
     "metadata": {},
     "output_type": "execute_result"
    }
   ],
   "source": [
    "# GIVEN CODE:\n",
    "#.head(n), and .tail(n) show you the top n rows (default is 5) in your dataset\n",
    "astro.head(3)"
   ]
  },
  {
   "cell_type": "code",
   "execution_count": 5,
   "metadata": {},
   "outputs": [
    {
     "data": {
      "text/plain": [
       "(357, 19)"
      ]
     },
     "execution_count": 5,
     "metadata": {},
     "output_type": "execute_result"
    }
   ],
   "source": [
    "# GIVEN CODE:\n",
    "#.shape returns (#rows,#cols)\n",
    "astro.shape"
   ]
  },
  {
   "cell_type": "code",
   "execution_count": 6,
   "metadata": {},
   "outputs": [
    {
     "data": {
      "text/plain": [
       "Name                    object\n",
       "Year                   float64\n",
       "Group                  float64\n",
       "Status                  object\n",
       "Birth Date              object\n",
       "Birth Place             object\n",
       "Gender                  object\n",
       "Alma Mater              object\n",
       "Undergraduate Major     object\n",
       "Graduate Major          object\n",
       "Military Rank           object\n",
       "Military Branch         object\n",
       "Space Flights            int64\n",
       "Space Flight (hr)        int64\n",
       "Space Walks              int64\n",
       "Space Walks (hr)       float64\n",
       "Missions                object\n",
       "Death Date              object\n",
       "Death Mission           object\n",
       "dtype: object"
      ]
     },
     "execution_count": 6,
     "metadata": {},
     "output_type": "execute_result"
    }
   ],
   "source": [
    "# GIVEN CODE:\n",
    "#Get data types for your columns\n",
    "astro.dtypes"
   ]
  },
  {
   "cell_type": "code",
   "execution_count": 7,
   "metadata": {},
   "outputs": [
    {
     "data": {
      "text/html": [
       "<div>\n",
       "<style scoped>\n",
       "    .dataframe tbody tr th:only-of-type {\n",
       "        vertical-align: middle;\n",
       "    }\n",
       "\n",
       "    .dataframe tbody tr th {\n",
       "        vertical-align: top;\n",
       "    }\n",
       "\n",
       "    .dataframe thead th {\n",
       "        text-align: right;\n",
       "    }\n",
       "</style>\n",
       "<table border=\"1\" class=\"dataframe\">\n",
       "  <thead>\n",
       "    <tr style=\"text-align: right;\">\n",
       "      <th></th>\n",
       "      <th>Year</th>\n",
       "      <th>Group</th>\n",
       "      <th>Space Flights</th>\n",
       "      <th>Space Flight (hr)</th>\n",
       "      <th>Space Walks</th>\n",
       "      <th>Space Walks (hr)</th>\n",
       "    </tr>\n",
       "  </thead>\n",
       "  <tbody>\n",
       "    <tr>\n",
       "      <th>count</th>\n",
       "      <td>330.000000</td>\n",
       "      <td>330.000000</td>\n",
       "      <td>357.000000</td>\n",
       "      <td>357.000000</td>\n",
       "      <td>357.000000</td>\n",
       "      <td>357.000000</td>\n",
       "    </tr>\n",
       "    <tr>\n",
       "      <th>mean</th>\n",
       "      <td>1985.106061</td>\n",
       "      <td>11.409091</td>\n",
       "      <td>2.364146</td>\n",
       "      <td>1249.266106</td>\n",
       "      <td>1.246499</td>\n",
       "      <td>7.707283</td>\n",
       "    </tr>\n",
       "    <tr>\n",
       "      <th>std</th>\n",
       "      <td>13.216147</td>\n",
       "      <td>5.149962</td>\n",
       "      <td>1.428700</td>\n",
       "      <td>1896.759857</td>\n",
       "      <td>2.056989</td>\n",
       "      <td>13.367973</td>\n",
       "    </tr>\n",
       "    <tr>\n",
       "      <th>min</th>\n",
       "      <td>1959.000000</td>\n",
       "      <td>1.000000</td>\n",
       "      <td>0.000000</td>\n",
       "      <td>0.000000</td>\n",
       "      <td>0.000000</td>\n",
       "      <td>0.000000</td>\n",
       "    </tr>\n",
       "    <tr>\n",
       "      <th>25%</th>\n",
       "      <td>1978.000000</td>\n",
       "      <td>8.000000</td>\n",
       "      <td>1.000000</td>\n",
       "      <td>289.000000</td>\n",
       "      <td>0.000000</td>\n",
       "      <td>0.000000</td>\n",
       "    </tr>\n",
       "    <tr>\n",
       "      <th>50%</th>\n",
       "      <td>1987.000000</td>\n",
       "      <td>12.000000</td>\n",
       "      <td>2.000000</td>\n",
       "      <td>590.000000</td>\n",
       "      <td>0.000000</td>\n",
       "      <td>0.000000</td>\n",
       "    </tr>\n",
       "    <tr>\n",
       "      <th>75%</th>\n",
       "      <td>1996.000000</td>\n",
       "      <td>16.000000</td>\n",
       "      <td>3.000000</td>\n",
       "      <td>1045.000000</td>\n",
       "      <td>2.000000</td>\n",
       "      <td>12.000000</td>\n",
       "    </tr>\n",
       "    <tr>\n",
       "      <th>max</th>\n",
       "      <td>2009.000000</td>\n",
       "      <td>20.000000</td>\n",
       "      <td>7.000000</td>\n",
       "      <td>12818.000000</td>\n",
       "      <td>10.000000</td>\n",
       "      <td>67.000000</td>\n",
       "    </tr>\n",
       "  </tbody>\n",
       "</table>\n",
       "</div>"
      ],
      "text/plain": [
       "              Year       Group  Space Flights  Space Flight (hr)  Space Walks  \\\n",
       "count   330.000000  330.000000     357.000000         357.000000   357.000000   \n",
       "mean   1985.106061   11.409091       2.364146        1249.266106     1.246499   \n",
       "std      13.216147    5.149962       1.428700        1896.759857     2.056989   \n",
       "min    1959.000000    1.000000       0.000000           0.000000     0.000000   \n",
       "25%    1978.000000    8.000000       1.000000         289.000000     0.000000   \n",
       "50%    1987.000000   12.000000       2.000000         590.000000     0.000000   \n",
       "75%    1996.000000   16.000000       3.000000        1045.000000     2.000000   \n",
       "max    2009.000000   20.000000       7.000000       12818.000000    10.000000   \n",
       "\n",
       "       Space Walks (hr)  \n",
       "count        357.000000  \n",
       "mean           7.707283  \n",
       "std           13.367973  \n",
       "min            0.000000  \n",
       "25%            0.000000  \n",
       "50%            0.000000  \n",
       "75%           12.000000  \n",
       "max           67.000000  "
      ]
     },
     "execution_count": 7,
     "metadata": {},
     "output_type": "execute_result"
    }
   ],
   "source": [
    "# GIVEN CODE:\n",
    "#Returns metadata for numerical fields\n",
    "astro.describe()"
   ]
  },
  {
   "cell_type": "code",
   "execution_count": 8,
   "metadata": {},
   "outputs": [
    {
     "data": {
      "text/plain": [
       "Name                     0\n",
       "Year                    27\n",
       "Group                   27\n",
       "Status                   0\n",
       "Birth Date               0\n",
       "Birth Place              0\n",
       "Gender                   0\n",
       "Alma Mater               1\n",
       "Undergraduate Major     22\n",
       "Graduate Major          59\n",
       "Military Rank          150\n",
       "Military Branch        146\n",
       "Space Flights            0\n",
       "Space Flight (hr)        0\n",
       "Space Walks              0\n",
       "Space Walks (hr)         0\n",
       "Missions                23\n",
       "Death Date             305\n",
       "Death Mission          341\n",
       "dtype: int64"
      ]
     },
     "execution_count": 8,
     "metadata": {},
     "output_type": "execute_result"
    }
   ],
   "source": [
    "# GIVEN CODE:\n",
    "#Shows you the number of nulls per column\n",
    "astro.isnull().sum()"
   ]
  },
  {
   "cell_type": "markdown",
   "metadata": {},
   "source": [
    "### 2.Transforming you data (Cleaning)\n",
    "Cleaning involves getting your data into a format you can use later. This includes: \n",
    "\n",
    "- Getting data types correct\n",
    "\n",
    "- Getting data into a \"tidy\" format"
   ]
  },
  {
   "cell_type": "code",
   "execution_count": 9,
   "metadata": {},
   "outputs": [],
   "source": [
    "# GIVEN CODE:\n",
    "#1. Make date fields (Year, Birth Date, and Death Date) into dates"
   ]
  },
  {
   "cell_type": "code",
   "execution_count": 10,
   "metadata": {},
   "outputs": [],
   "source": [
    "# GIVEN CODE:\n",
    "# This given code doesn't work. It seems to be because Python can't convert NaN values. Data type remains as Float64\n",
    "# astro['Year']=pd.to_datetime(astro['Year']).dt.year\n",
    "# print(astro['Year'].dtype)\n",
    "# print(astro['Year'].head())"
   ]
  },
  {
   "cell_type": "code",
   "execution_count": 11,
   "metadata": {},
   "outputs": [
    {
     "name": "stdout",
     "output_type": "stream",
     "text": [
      "int64\n",
      "0    1970\n",
      "1    1970\n",
      "2    1970\n",
      "3    1970\n",
      "4    1970\n",
      "Name: Year, dtype: int64\n"
     ]
    }
   ],
   "source": [
    "# MY CODE:\n",
    "# The below code works by fillingin the NaN values with 0 (can chose any other arbitrary value) before converting to year. \n",
    "# Data type becomes int64\n",
    "astro['Year']=pd.to_datetime(astro['Year'].fillna(0)).dt.year\n",
    "print(astro['Year'].dtype)\n",
    "print(astro['Year'].head())"
   ]
  },
  {
   "cell_type": "code",
   "execution_count": 12,
   "metadata": {},
   "outputs": [],
   "source": [
    "# GIVEN CODE:\n",
    "astro['Birth Date']=pd.to_datetime(astro['Birth Date']).dt.date"
   ]
  },
  {
   "cell_type": "code",
   "execution_count": 13,
   "metadata": {},
   "outputs": [],
   "source": [
    "# GIVEN CODE:\n",
    "astro['Death Date']= pd.to_datetime(astro['Death Date']).dt.date"
   ]
  },
  {
   "cell_type": "code",
   "execution_count": 14,
   "metadata": {},
   "outputs": [
    {
     "name": "stdout",
     "output_type": "stream",
     "text": [
      "[19. nan 10. 12.  3.  6. 15. 17. 18. 11.  2. 20.  9. 14.  8.  7.  5. 16.\n",
      " 13.  1.  4.]\n"
     ]
    }
   ],
   "source": [
    "# MY CODE:\n",
    "# ----------------\n",
    "# Check the unique values of Group, can we save memory by setting Group to int8?\n",
    "# If there aren't any decimal values then we can convert to int8. The below step is manual and requires eyeballing the data\n",
    "# which is ok if the number of values is small\n",
    "# ----------------\n",
    "print(astro.Group.unique())\n",
    "\n",
    "# ----------------\n",
    "# If the dataset would have given '000s of unique values for Group then it would be better to use the logic below\n",
    "# that will identify if any row has a non integer values\n",
    "# ----------------\n",
    "# astro['Group_Remainder'] = astro['Group'] % 1 > 0 \n",
    "# print(astro[astro['Group_Remainder'] == True]['Group_Remainder'])\n",
    "# print(\"There are {} records with a non-integer value\".format(len(astro[astro['Group_Remainder'] == True])))\n",
    "\n",
    "# ----------------\n",
    "# Having check that it is valid to convert Group to int8 the logic fills NaN with -1 so they can be easily identified \n",
    "# and then converts the data to int8 to take the least amount of memory\n",
    "astro['Group'] = astro['Group'].fillna(-1).astype('int8', errors='ignore')\n",
    "# print(astro['Group'].dtype)\n",
    "# ----------------\n",
    "\n",
    "\n",
    "# ----------------\n",
    "# Can't use to_numeric to convert from float64 to int8 as there are NaN values which can't be converted to integer\n",
    "# and the errors='ignore' doesn't work as hoped\n",
    "# See simple example below for proof\n",
    "# ----------------\n",
    "# s = pd.Series(['1.0', '2', -3])\n",
    "# pd.to_numeric(s, downcast='integer')\n",
    "\n",
    "# s = pd.Series(['1.0', nan, -3])\n",
    "# pd.to_numeric(s, downcast='integer')"
   ]
  },
  {
   "cell_type": "code",
   "execution_count": 15,
   "metadata": {},
   "outputs": [],
   "source": [
    "# GIVEN CODE:\n",
    "#Sometimes the Military Rank as (Retired). Let's separate that out in case we just want to compare branches\n",
    "astro['Retired_Military']=np.where(astro['Military Branch'].str.contains(\"Retired\"),1,0)\n",
    "astro['Military Branch']= [x.split(\"(\")[0].strip() for x in astro['Military Branch'].astype(str)]"
   ]
  },
  {
   "cell_type": "code",
   "execution_count": 16,
   "metadata": {},
   "outputs": [
    {
     "name": "stdout",
     "output_type": "stream",
     "text": [
      "nan\n",
      "US Army\n",
      "US Air Force\n",
      "US Marine Corps\n",
      "US Navy\n",
      "US Air Force Reserves\n",
      "US Marine Corps Reserves\n",
      "US Coast Guard\n",
      "US Naval Reserves\n"
     ]
    }
   ],
   "source": [
    "# MY CODE:\n",
    "branches = astro['Military Branch'].unique()\n",
    "for x in branches:\n",
    "    print(x)"
   ]
  },
  {
   "cell_type": "markdown",
   "metadata": {},
   "source": [
    "### 3. Feature Engineering (adding columns)\n",
    "Feature engineering just means adding columns you think may be relavent or interesting. "
   ]
  },
  {
   "cell_type": "code",
   "execution_count": 17,
   "metadata": {},
   "outputs": [],
   "source": [
    "# GIVEN CODE:\n",
    "#Let's count the number of missions\n",
    "astro['Missions']=astro['Missions'].astype(str)\n",
    "astro['MissionCount']= [len(x.split(\",\")) for x in astro['Missions']]"
   ]
  },
  {
   "cell_type": "code",
   "execution_count": 18,
   "metadata": {},
   "outputs": [],
   "source": [
    "# MY CODE:\n",
    "astro['First Name'] = [x.split()[0].strip() for x in astro['Name']]\n",
    "astro['Last Name'] = [x.split()[-1].strip() for x in astro['Name']]"
   ]
  },
  {
   "cell_type": "code",
   "execution_count": 19,
   "metadata": {},
   "outputs": [
    {
     "data": {
      "text/html": [
       "<div>\n",
       "<style scoped>\n",
       "    .dataframe tbody tr th:only-of-type {\n",
       "        vertical-align: middle;\n",
       "    }\n",
       "\n",
       "    .dataframe tbody tr th {\n",
       "        vertical-align: top;\n",
       "    }\n",
       "\n",
       "    .dataframe thead th {\n",
       "        text-align: right;\n",
       "    }\n",
       "</style>\n",
       "<table border=\"1\" class=\"dataframe\">\n",
       "  <thead>\n",
       "    <tr style=\"text-align: right;\">\n",
       "      <th></th>\n",
       "      <th>Name</th>\n",
       "      <th>Year</th>\n",
       "      <th>Group</th>\n",
       "      <th>Status</th>\n",
       "      <th>Birth Date</th>\n",
       "      <th>Birth Place</th>\n",
       "      <th>Gender</th>\n",
       "      <th>Alma Mater</th>\n",
       "      <th>Undergraduate Major</th>\n",
       "      <th>Graduate Major</th>\n",
       "      <th>...</th>\n",
       "      <th>Space Flight (hr)</th>\n",
       "      <th>Space Walks</th>\n",
       "      <th>Space Walks (hr)</th>\n",
       "      <th>Missions</th>\n",
       "      <th>Death Date</th>\n",
       "      <th>Death Mission</th>\n",
       "      <th>Retired_Military</th>\n",
       "      <th>MissionCount</th>\n",
       "      <th>First Name</th>\n",
       "      <th>Last Name</th>\n",
       "    </tr>\n",
       "  </thead>\n",
       "  <tbody>\n",
       "    <tr>\n",
       "      <th>352</th>\n",
       "      <td>David A. Wolf</td>\n",
       "      <td>1970</td>\n",
       "      <td>13</td>\n",
       "      <td>Retired</td>\n",
       "      <td>1956-08-23</td>\n",
       "      <td>Indianapolis, IN</td>\n",
       "      <td>Male</td>\n",
       "      <td>Purdue University; Indiana University</td>\n",
       "      <td>Electrical Engineering</td>\n",
       "      <td>Medicine</td>\n",
       "      <td>...</td>\n",
       "      <td>4044</td>\n",
       "      <td>7</td>\n",
       "      <td>41.0</td>\n",
       "      <td>STS-58 (Columbia). STS-86/89 (Atlantis/Endeavo...</td>\n",
       "      <td>NaN</td>\n",
       "      <td>NaN</td>\n",
       "      <td>1</td>\n",
       "      <td>3</td>\n",
       "      <td>David</td>\n",
       "      <td>Wolf</td>\n",
       "    </tr>\n",
       "    <tr>\n",
       "      <th>353</th>\n",
       "      <td>Neil W. Woodward III</td>\n",
       "      <td>1970</td>\n",
       "      <td>17</td>\n",
       "      <td>Retired</td>\n",
       "      <td>1962-07-26</td>\n",
       "      <td>Chicago, IL</td>\n",
       "      <td>Male</td>\n",
       "      <td>MIT; University of Texas-Austin; George Washin...</td>\n",
       "      <td>Physics</td>\n",
       "      <td>Physics; Business Management</td>\n",
       "      <td>...</td>\n",
       "      <td>0</td>\n",
       "      <td>0</td>\n",
       "      <td>0.0</td>\n",
       "      <td>nan</td>\n",
       "      <td>NaN</td>\n",
       "      <td>NaN</td>\n",
       "      <td>0</td>\n",
       "      <td>1</td>\n",
       "      <td>Neil</td>\n",
       "      <td>III</td>\n",
       "    </tr>\n",
       "    <tr>\n",
       "      <th>354</th>\n",
       "      <td>Alfred M. Worden</td>\n",
       "      <td>1970</td>\n",
       "      <td>5</td>\n",
       "      <td>Retired</td>\n",
       "      <td>1932-02-07</td>\n",
       "      <td>Jackson, MI</td>\n",
       "      <td>Male</td>\n",
       "      <td>US Military Academy; University of Michigan</td>\n",
       "      <td>Military Science</td>\n",
       "      <td>Aeronautical &amp; Astronautical Engineering</td>\n",
       "      <td>...</td>\n",
       "      <td>295</td>\n",
       "      <td>1</td>\n",
       "      <td>0.5</td>\n",
       "      <td>Apollo 15</td>\n",
       "      <td>NaN</td>\n",
       "      <td>NaN</td>\n",
       "      <td>1</td>\n",
       "      <td>1</td>\n",
       "      <td>Alfred</td>\n",
       "      <td>Worden</td>\n",
       "    </tr>\n",
       "    <tr>\n",
       "      <th>355</th>\n",
       "      <td>John W. Young</td>\n",
       "      <td>1970</td>\n",
       "      <td>2</td>\n",
       "      <td>Retired</td>\n",
       "      <td>1930-09-24</td>\n",
       "      <td>San Francisco, CA</td>\n",
       "      <td>Male</td>\n",
       "      <td>Georgia Institute of Technology</td>\n",
       "      <td>Aeronautical Engineering</td>\n",
       "      <td>NaN</td>\n",
       "      <td>...</td>\n",
       "      <td>835</td>\n",
       "      <td>3</td>\n",
       "      <td>20.0</td>\n",
       "      <td>Gemini 3, Gemini 10, Apollo 10, Apollo 16, STS...</td>\n",
       "      <td>NaN</td>\n",
       "      <td>NaN</td>\n",
       "      <td>1</td>\n",
       "      <td>6</td>\n",
       "      <td>John</td>\n",
       "      <td>Young</td>\n",
       "    </tr>\n",
       "    <tr>\n",
       "      <th>356</th>\n",
       "      <td>George D. Zamka</td>\n",
       "      <td>1970</td>\n",
       "      <td>17</td>\n",
       "      <td>Retired</td>\n",
       "      <td>1962-06-29</td>\n",
       "      <td>Jersey City, NJ</td>\n",
       "      <td>Male</td>\n",
       "      <td>US Naval Academy; Florida Institute of Technology</td>\n",
       "      <td>Mathematics</td>\n",
       "      <td>Engineering Management</td>\n",
       "      <td>...</td>\n",
       "      <td>692</td>\n",
       "      <td>0</td>\n",
       "      <td>0.0</td>\n",
       "      <td>STS-120 (Discovery), STS-130 (Endeavor)</td>\n",
       "      <td>NaN</td>\n",
       "      <td>NaN</td>\n",
       "      <td>1</td>\n",
       "      <td>2</td>\n",
       "      <td>George</td>\n",
       "      <td>Zamka</td>\n",
       "    </tr>\n",
       "  </tbody>\n",
       "</table>\n",
       "<p>5 rows × 23 columns</p>\n",
       "</div>"
      ],
      "text/plain": [
       "                      Name  Year  Group   Status  Birth Date  \\\n",
       "352          David A. Wolf  1970     13  Retired  1956-08-23   \n",
       "353  Neil W. Woodward III   1970     17  Retired  1962-07-26   \n",
       "354       Alfred M. Worden  1970      5  Retired  1932-02-07   \n",
       "355          John W. Young  1970      2  Retired  1930-09-24   \n",
       "356        George D. Zamka  1970     17  Retired  1962-06-29   \n",
       "\n",
       "           Birth Place Gender  \\\n",
       "352   Indianapolis, IN   Male   \n",
       "353        Chicago, IL   Male   \n",
       "354        Jackson, MI   Male   \n",
       "355  San Francisco, CA   Male   \n",
       "356    Jersey City, NJ   Male   \n",
       "\n",
       "                                            Alma Mater  \\\n",
       "352              Purdue University; Indiana University   \n",
       "353  MIT; University of Texas-Austin; George Washin...   \n",
       "354        US Military Academy; University of Michigan   \n",
       "355                    Georgia Institute of Technology   \n",
       "356  US Naval Academy; Florida Institute of Technology   \n",
       "\n",
       "          Undergraduate Major                            Graduate Major  \\\n",
       "352    Electrical Engineering                                  Medicine   \n",
       "353                   Physics              Physics; Business Management   \n",
       "354          Military Science  Aeronautical & Astronautical Engineering   \n",
       "355  Aeronautical Engineering                                       NaN   \n",
       "356               Mathematics                    Engineering Management   \n",
       "\n",
       "       ...     Space Flight (hr) Space Walks  Space Walks (hr)  \\\n",
       "352    ...                  4044           7              41.0   \n",
       "353    ...                     0           0               0.0   \n",
       "354    ...                   295           1               0.5   \n",
       "355    ...                   835           3              20.0   \n",
       "356    ...                   692           0               0.0   \n",
       "\n",
       "                                              Missions  Death Date  \\\n",
       "352  STS-58 (Columbia). STS-86/89 (Atlantis/Endeavo...         NaN   \n",
       "353                                                nan         NaN   \n",
       "354                                          Apollo 15         NaN   \n",
       "355  Gemini 3, Gemini 10, Apollo 10, Apollo 16, STS...         NaN   \n",
       "356            STS-120 (Discovery), STS-130 (Endeavor)         NaN   \n",
       "\n",
       "     Death Mission Retired_Military MissionCount First Name  Last Name  \n",
       "352            NaN                1            3      David       Wolf  \n",
       "353            NaN                0            1       Neil        III  \n",
       "354            NaN                1            1     Alfred     Worden  \n",
       "355            NaN                1            6       John      Young  \n",
       "356            NaN                1            2     George      Zamka  \n",
       "\n",
       "[5 rows x 23 columns]"
      ]
     },
     "execution_count": 19,
     "metadata": {},
     "output_type": "execute_result"
    }
   ],
   "source": [
    "# MY CODE:\n",
    "astro.tail(5)"
   ]
  },
  {
   "cell_type": "markdown",
   "metadata": {},
   "source": [
    "## CHALLENGE: Can you create a column that is the number of universities attended per astronaut?"
   ]
  },
  {
   "cell_type": "code",
   "execution_count": 20,
   "metadata": {},
   "outputs": [
    {
     "data": {
      "text/html": [
       "<div>\n",
       "<style scoped>\n",
       "    .dataframe tbody tr th:only-of-type {\n",
       "        vertical-align: middle;\n",
       "    }\n",
       "\n",
       "    .dataframe tbody tr th {\n",
       "        vertical-align: top;\n",
       "    }\n",
       "\n",
       "    .dataframe thead th {\n",
       "        text-align: right;\n",
       "    }\n",
       "</style>\n",
       "<table border=\"1\" class=\"dataframe\">\n",
       "  <thead>\n",
       "    <tr style=\"text-align: right;\">\n",
       "      <th></th>\n",
       "      <th>Alma Mater</th>\n",
       "      <th>Number of Universities</th>\n",
       "    </tr>\n",
       "  </thead>\n",
       "  <tbody>\n",
       "    <tr>\n",
       "      <th>0</th>\n",
       "      <td>University of California-Santa Barbara; Univer...</td>\n",
       "      <td>2</td>\n",
       "    </tr>\n",
       "    <tr>\n",
       "      <th>1</th>\n",
       "      <td>Montana State University; University of Colorado</td>\n",
       "      <td>2</td>\n",
       "    </tr>\n",
       "    <tr>\n",
       "      <th>2</th>\n",
       "      <td>US Military Academy; Princeton University</td>\n",
       "      <td>2</td>\n",
       "    </tr>\n",
       "    <tr>\n",
       "      <th>3</th>\n",
       "      <td>University of Missouri-Rolla</td>\n",
       "      <td>1</td>\n",
       "    </tr>\n",
       "    <tr>\n",
       "      <th>4</th>\n",
       "      <td>US Military Academy; MIT</td>\n",
       "      <td>2</td>\n",
       "    </tr>\n",
       "  </tbody>\n",
       "</table>\n",
       "</div>"
      ],
      "text/plain": [
       "                                          Alma Mater  Number of Universities\n",
       "0  University of California-Santa Barbara; Univer...                       2\n",
       "1   Montana State University; University of Colorado                       2\n",
       "2          US Military Academy; Princeton University                       2\n",
       "3                       University of Missouri-Rolla                       1\n",
       "4                           US Military Academy; MIT                       2"
      ]
     },
     "execution_count": 20,
     "metadata": {},
     "output_type": "execute_result"
    }
   ],
   "source": [
    "# MY CODE:\n",
    "astro['Number of Universities'] = [len(x.split(\";\")) for x in astro['Alma Mater'].astype(str)]\n",
    "astro['Number of Universities'] = astro['Number of Universities'].astype('int8')\n",
    "astro[['Alma Mater','Number of Universities']].head()"
   ]
  },
  {
   "cell_type": "markdown",
   "metadata": {},
   "source": [
    "### 4. Transforming our data\n",
    "\n",
    "Now we can start re-arranging our data to get some insights!"
   ]
  },
  {
   "cell_type": "code",
   "execution_count": 21,
   "metadata": {},
   "outputs": [],
   "source": [
    "# GIVEN CODE:\n",
    "#Total Space Flights by Gender\n",
    "grouped = astro.groupby('Gender')['Space Flights'].sum()"
   ]
  },
  {
   "cell_type": "code",
   "execution_count": 22,
   "metadata": {},
   "outputs": [
    {
     "data": {
      "text/plain": [
       "Gender\n",
       "Female    2.400000\n",
       "Male      2.358306\n",
       "Name: Space Flights, dtype: float64"
      ]
     },
     "execution_count": 22,
     "metadata": {},
     "output_type": "execute_result"
    }
   ],
   "source": [
    "# GIVEN CODE:\n",
    "#Per-person seems more equal\n",
    "astro.groupby('Gender')['Space Flights'].mean()"
   ]
  },
  {
   "cell_type": "code",
   "execution_count": 23,
   "metadata": {},
   "outputs": [
    {
     "name": "stdout",
     "output_type": "stream",
     "text": [
      "       Space Flights          \n",
      "                 sum      mean\n",
      "Gender                        \n",
      "Female           120  2.400000\n",
      "Male             724  2.358306\n",
      "MultiIndex(levels=[['Space Flights'], ['sum', 'mean']],\n",
      "           labels=[[0, 0], [0, 1]])\n"
     ]
    }
   ],
   "source": [
    "# MY CODE:\n",
    "# Can perform multiple aggregation in 1 step\n",
    "gender_groupby_df = astro.groupby('Gender').agg({'Space Flights': ['sum','mean']})\n",
    "print(gender_groupby_df)\n",
    "print(gender_groupby_df.columns)"
   ]
  },
  {
   "cell_type": "code",
   "execution_count": 24,
   "metadata": {},
   "outputs": [
    {
     "name": "stdout",
     "output_type": "stream",
     "text": [
      "Gender\n",
      "Female    120\n",
      "Male      724\n",
      "Name: sum, dtype: int64\n",
      "\n",
      "Space Flights  sum     120.0\n",
      "               mean      2.4\n",
      "Name: Female, dtype: float64\n"
     ]
    }
   ],
   "source": [
    "# MY CODE:\n",
    "# Simple examples of getting just certain parts of the aggregated data\n",
    "# Get just the sum of space flights\n",
    "print(gender_groupby_df['Space Flights']['sum'])\n",
    "print()\n",
    "\n",
    "# Get the summary stats just for females\n",
    "print(gender_groupby_df.loc['Female'])"
   ]
  },
  {
   "cell_type": "markdown",
   "metadata": {},
   "source": [
    "## CHALLENGE: Can you find the most common Undergraduate Major for Astronauts? Does that differ by Gender?"
   ]
  },
  {
   "cell_type": "code",
   "execution_count": 25,
   "metadata": {},
   "outputs": [
    {
     "name": "stdout",
     "output_type": "stream",
     "text": [
      "Most popular Undergrad course, all genders:\n",
      "\n",
      "Undergraduate Major\n",
      "Physics                   35\n",
      "Aerospace Engineering     33\n",
      "Mechanical Engineering    30\n",
      "Name: Name, dtype: int64\n",
      "\n",
      "\n",
      "Most popular Undergrad course for Female:\n",
      "\n",
      "Undergraduate Major\n",
      "Chemistry                   5\n",
      "Physics                     5\n",
      "Aeronautical Engineering    3\n",
      "Name: Name, dtype: int64\n",
      "\n",
      "\n",
      "Most popular Undergrad course for Male:\n",
      "\n",
      "Undergraduate Major\n",
      "Aerospace Engineering     30\n",
      "Physics                   30\n",
      "Mechanical Engineering    28\n",
      "Name: Name, dtype: int64\n",
      "\n",
      "\n"
     ]
    }
   ],
   "source": [
    "# MY CODE:\n",
    "topx = 3\n",
    "\n",
    "undergrad_groupby_df = astro.groupby(['Undergraduate Major'])['Name'].count().nlargest(topx)\n",
    "print(\"Most popular Undergrad course, all genders:\")\n",
    "print()\n",
    "print(undergrad_groupby_df)\n",
    "print('\\n' * 1)\n",
    "\n",
    "undergrad_gender_groupby_df = astro.groupby(['Gender','Undergraduate Major'])['Name'].count()\n",
    "genders = ['Female', 'Male']\n",
    "\n",
    "for g in genders:\n",
    "    print(\"Most popular Undergrad course for {}:\".format(g))\n",
    "    print()\n",
    "    print(undergrad_gender_groupby_df.loc[g].nlargest(topx))\n",
    "    print('\\n' * 1)"
   ]
  },
  {
   "cell_type": "code",
   "execution_count": 26,
   "metadata": {},
   "outputs": [
    {
     "data": {
      "text/html": [
       "<div>\n",
       "<style scoped>\n",
       "    .dataframe tbody tr th:only-of-type {\n",
       "        vertical-align: middle;\n",
       "    }\n",
       "\n",
       "    .dataframe tbody tr th {\n",
       "        vertical-align: top;\n",
       "    }\n",
       "\n",
       "    .dataframe thead tr th {\n",
       "        text-align: left;\n",
       "    }\n",
       "\n",
       "    .dataframe thead tr:last-of-type th {\n",
       "        text-align: right;\n",
       "    }\n",
       "</style>\n",
       "<table border=\"1\" class=\"dataframe\">\n",
       "  <thead>\n",
       "    <tr>\n",
       "      <th></th>\n",
       "      <th></th>\n",
       "      <th>mean</th>\n",
       "      <th>len</th>\n",
       "    </tr>\n",
       "    <tr>\n",
       "      <th></th>\n",
       "      <th></th>\n",
       "      <th>Space Flight (hr)</th>\n",
       "      <th>Space Flight (hr)</th>\n",
       "    </tr>\n",
       "    <tr>\n",
       "      <th>Gender</th>\n",
       "      <th>Military Branch</th>\n",
       "      <th></th>\n",
       "      <th></th>\n",
       "    </tr>\n",
       "  </thead>\n",
       "  <tbody>\n",
       "    <tr>\n",
       "      <th rowspan=\"5\" valign=\"top\">Female</th>\n",
       "      <th>US Air Force</th>\n",
       "      <td>2238.200000</td>\n",
       "      <td>5</td>\n",
       "    </tr>\n",
       "    <tr>\n",
       "      <th>US Army</th>\n",
       "      <td>999.000000</td>\n",
       "      <td>1</td>\n",
       "    </tr>\n",
       "    <tr>\n",
       "      <th>US Naval Reserves</th>\n",
       "      <td>711.000000</td>\n",
       "      <td>1</td>\n",
       "    </tr>\n",
       "    <tr>\n",
       "      <th>US Navy</th>\n",
       "      <td>1794.500000</td>\n",
       "      <td>6</td>\n",
       "    </tr>\n",
       "    <tr>\n",
       "      <th>nan</th>\n",
       "      <td>1491.810811</td>\n",
       "      <td>37</td>\n",
       "    </tr>\n",
       "    <tr>\n",
       "      <th rowspan=\"9\" valign=\"top\">Male</th>\n",
       "      <th>US Air Force</th>\n",
       "      <td>963.519481</td>\n",
       "      <td>77</td>\n",
       "    </tr>\n",
       "    <tr>\n",
       "      <th>US Air Force Reserves</th>\n",
       "      <td>1140.200000</td>\n",
       "      <td>5</td>\n",
       "    </tr>\n",
       "    <tr>\n",
       "      <th>US Army</th>\n",
       "      <td>2758.812500</td>\n",
       "      <td>16</td>\n",
       "    </tr>\n",
       "    <tr>\n",
       "      <th>US Coast Guard</th>\n",
       "      <td>2411.500000</td>\n",
       "      <td>2</td>\n",
       "    </tr>\n",
       "    <tr>\n",
       "      <th>US Marine Corps</th>\n",
       "      <td>651.350000</td>\n",
       "      <td>20</td>\n",
       "    </tr>\n",
       "    <tr>\n",
       "      <th>US Marine Corps Reserves</th>\n",
       "      <td>506.000000</td>\n",
       "      <td>2</td>\n",
       "    </tr>\n",
       "    <tr>\n",
       "      <th>US Naval Reserves</th>\n",
       "      <td>3214.000000</td>\n",
       "      <td>2</td>\n",
       "    </tr>\n",
       "    <tr>\n",
       "      <th>US Navy</th>\n",
       "      <td>1199.810811</td>\n",
       "      <td>74</td>\n",
       "    </tr>\n",
       "    <tr>\n",
       "      <th>nan</th>\n",
       "      <td>1183.614679</td>\n",
       "      <td>109</td>\n",
       "    </tr>\n",
       "  </tbody>\n",
       "</table>\n",
       "</div>"
      ],
      "text/plain": [
       "                                             mean               len\n",
       "                                Space Flight (hr) Space Flight (hr)\n",
       "Gender Military Branch                                             \n",
       "Female US Air Force                   2238.200000                 5\n",
       "       US Army                         999.000000                 1\n",
       "       US Naval Reserves               711.000000                 1\n",
       "       US Navy                        1794.500000                 6\n",
       "       nan                            1491.810811                37\n",
       "Male   US Air Force                    963.519481                77\n",
       "       US Air Force Reserves          1140.200000                 5\n",
       "       US Army                        2758.812500                16\n",
       "       US Coast Guard                 2411.500000                 2\n",
       "       US Marine Corps                 651.350000                20\n",
       "       US Marine Corps Reserves        506.000000                 2\n",
       "       US Naval Reserves              3214.000000                 2\n",
       "       US Navy                        1199.810811                74\n",
       "       nan                            1183.614679               109"
      ]
     },
     "execution_count": 26,
     "metadata": {},
     "output_type": "execute_result"
    }
   ],
   "source": [
    "# GIVEN CODE:\n",
    "# Pivot tables: \n",
    "pivot = astro.pivot_table(index = ['Gender','Military Branch'],values = ['Space Flight (hr)'],aggfunc = [np.mean,len])\n",
    "pivot\n",
    "\n",
    "# MY QUESTION:\n",
    "#  Why is 'len' an aggregation function for pivot_table not count?????????????????????????"
   ]
  },
  {
   "cell_type": "code",
   "execution_count": 27,
   "metadata": {},
   "outputs": [
    {
     "name": "stderr",
     "output_type": "stream",
     "text": [
      "c:\\users\\user\\appdata\\local\\programs\\python\\python36-32\\lib\\site-packages\\ipykernel_launcher.py:3: FutureWarning: using a dict on a Series for aggregation\n",
      "is deprecated and will be removed in a future version\n",
      "  This is separate from the ipykernel package so we can avoid doing imports until\n"
     ]
    },
    {
     "data": {
      "text/html": [
       "<div>\n",
       "<style scoped>\n",
       "    .dataframe tbody tr th:only-of-type {\n",
       "        vertical-align: middle;\n",
       "    }\n",
       "\n",
       "    .dataframe tbody tr th {\n",
       "        vertical-align: top;\n",
       "    }\n",
       "\n",
       "    .dataframe thead tr th {\n",
       "        text-align: left;\n",
       "    }\n",
       "\n",
       "    .dataframe thead tr:last-of-type th {\n",
       "        text-align: right;\n",
       "    }\n",
       "</style>\n",
       "<table border=\"1\" class=\"dataframe\">\n",
       "  <thead>\n",
       "    <tr>\n",
       "      <th></th>\n",
       "      <th></th>\n",
       "      <th colspan=\"2\" halign=\"left\">Space Flight (hr)</th>\n",
       "    </tr>\n",
       "    <tr>\n",
       "      <th></th>\n",
       "      <th></th>\n",
       "      <th>mean</th>\n",
       "      <th>count</th>\n",
       "    </tr>\n",
       "    <tr>\n",
       "      <th>Gender</th>\n",
       "      <th>Military Branch</th>\n",
       "      <th></th>\n",
       "      <th></th>\n",
       "    </tr>\n",
       "  </thead>\n",
       "  <tbody>\n",
       "    <tr>\n",
       "      <th rowspan=\"5\" valign=\"top\">Female</th>\n",
       "      <th>US Air Force</th>\n",
       "      <td>2238.200000</td>\n",
       "      <td>5</td>\n",
       "    </tr>\n",
       "    <tr>\n",
       "      <th>US Army</th>\n",
       "      <td>999.000000</td>\n",
       "      <td>1</td>\n",
       "    </tr>\n",
       "    <tr>\n",
       "      <th>US Naval Reserves</th>\n",
       "      <td>711.000000</td>\n",
       "      <td>1</td>\n",
       "    </tr>\n",
       "    <tr>\n",
       "      <th>US Navy</th>\n",
       "      <td>1794.500000</td>\n",
       "      <td>6</td>\n",
       "    </tr>\n",
       "    <tr>\n",
       "      <th>nan</th>\n",
       "      <td>1491.810811</td>\n",
       "      <td>37</td>\n",
       "    </tr>\n",
       "    <tr>\n",
       "      <th rowspan=\"9\" valign=\"top\">Male</th>\n",
       "      <th>US Air Force</th>\n",
       "      <td>963.519481</td>\n",
       "      <td>77</td>\n",
       "    </tr>\n",
       "    <tr>\n",
       "      <th>US Air Force Reserves</th>\n",
       "      <td>1140.200000</td>\n",
       "      <td>5</td>\n",
       "    </tr>\n",
       "    <tr>\n",
       "      <th>US Army</th>\n",
       "      <td>2758.812500</td>\n",
       "      <td>16</td>\n",
       "    </tr>\n",
       "    <tr>\n",
       "      <th>US Coast Guard</th>\n",
       "      <td>2411.500000</td>\n",
       "      <td>2</td>\n",
       "    </tr>\n",
       "    <tr>\n",
       "      <th>US Marine Corps</th>\n",
       "      <td>651.350000</td>\n",
       "      <td>20</td>\n",
       "    </tr>\n",
       "    <tr>\n",
       "      <th>US Marine Corps Reserves</th>\n",
       "      <td>506.000000</td>\n",
       "      <td>2</td>\n",
       "    </tr>\n",
       "    <tr>\n",
       "      <th>US Naval Reserves</th>\n",
       "      <td>3214.000000</td>\n",
       "      <td>2</td>\n",
       "    </tr>\n",
       "    <tr>\n",
       "      <th>US Navy</th>\n",
       "      <td>1199.810811</td>\n",
       "      <td>74</td>\n",
       "    </tr>\n",
       "    <tr>\n",
       "      <th>nan</th>\n",
       "      <td>1183.614679</td>\n",
       "      <td>109</td>\n",
       "    </tr>\n",
       "  </tbody>\n",
       "</table>\n",
       "</div>"
      ],
      "text/plain": [
       "                                Space Flight (hr)      \n",
       "                                             mean count\n",
       "Gender Military Branch                                 \n",
       "Female US Air Force                   2238.200000     5\n",
       "       US Army                         999.000000     1\n",
       "       US Naval Reserves               711.000000     1\n",
       "       US Navy                        1794.500000     6\n",
       "       nan                            1491.810811    37\n",
       "Male   US Air Force                    963.519481    77\n",
       "       US Air Force Reserves          1140.200000     5\n",
       "       US Army                        2758.812500    16\n",
       "       US Coast Guard                 2411.500000     2\n",
       "       US Marine Corps                 651.350000    20\n",
       "       US Marine Corps Reserves        506.000000     2\n",
       "       US Naval Reserves              3214.000000     2\n",
       "       US Navy                        1199.810811    74\n",
       "       nan                            1183.614679   109"
      ]
     },
     "execution_count": 27,
     "metadata": {},
     "output_type": "execute_result"
    }
   ],
   "source": [
    "# MY CODE:\n",
    "# Same output as above cell but uses pandas grouby rather than pivot_table\n",
    "pivot = astro.groupby(['Gender','Military Branch'])['Space Flight (hr)'].agg({'Space Flight (hr)':['mean', 'count']})\n",
    "pivot"
   ]
  },
  {
   "cell_type": "code",
   "execution_count": 28,
   "metadata": {},
   "outputs": [
    {
     "data": {
      "text/html": [
       "<div>\n",
       "<style scoped>\n",
       "    .dataframe tbody tr th:only-of-type {\n",
       "        vertical-align: middle;\n",
       "    }\n",
       "\n",
       "    .dataframe tbody tr th {\n",
       "        vertical-align: top;\n",
       "    }\n",
       "\n",
       "    .dataframe thead th {\n",
       "        text-align: right;\n",
       "    }\n",
       "</style>\n",
       "<table border=\"1\" class=\"dataframe\">\n",
       "  <thead>\n",
       "    <tr style=\"text-align: right;\">\n",
       "      <th></th>\n",
       "      <th>Name</th>\n",
       "      <th>MissionCount</th>\n",
       "    </tr>\n",
       "  </thead>\n",
       "  <tbody>\n",
       "    <tr>\n",
       "      <th>279</th>\n",
       "      <td>Jerry L. Ross</td>\n",
       "      <td>7</td>\n",
       "    </tr>\n",
       "    <tr>\n",
       "      <th>65</th>\n",
       "      <td>Franklin R. Chang-Diaz</td>\n",
       "      <td>7</td>\n",
       "    </tr>\n",
       "    <tr>\n",
       "      <th>111</th>\n",
       "      <td>C. Michael Foale</td>\n",
       "      <td>6</td>\n",
       "    </tr>\n",
       "    <tr>\n",
       "      <th>355</th>\n",
       "      <td>John W. Young</td>\n",
       "      <td>6</td>\n",
       "    </tr>\n",
       "    <tr>\n",
       "      <th>339</th>\n",
       "      <td>James D. Wetherbee</td>\n",
       "      <td>6</td>\n",
       "    </tr>\n",
       "    <tr>\n",
       "      <th>237</th>\n",
       "      <td>Story Musgrave</td>\n",
       "      <td>6</td>\n",
       "    </tr>\n",
       "    <tr>\n",
       "      <th>41</th>\n",
       "      <td>Curtis L. Brown Jr.</td>\n",
       "      <td>6</td>\n",
       "    </tr>\n",
       "    <tr>\n",
       "      <th>144</th>\n",
       "      <td>James D. Halsell Jr.</td>\n",
       "      <td>5</td>\n",
       "    </tr>\n",
       "    <tr>\n",
       "      <th>27</th>\n",
       "      <td>John E. Blaha</td>\n",
       "      <td>5</td>\n",
       "    </tr>\n",
       "    <tr>\n",
       "      <th>315</th>\n",
       "      <td>Norman E. Thagard</td>\n",
       "      <td>5</td>\n",
       "    </tr>\n",
       "  </tbody>\n",
       "</table>\n",
       "</div>"
      ],
      "text/plain": [
       "                       Name  MissionCount\n",
       "279           Jerry L. Ross             7\n",
       "65   Franklin R. Chang-Diaz             7\n",
       "111        C. Michael Foale             6\n",
       "355           John W. Young             6\n",
       "339      James D. Wetherbee             6\n",
       "237          Story Musgrave             6\n",
       "41     Curtis L. Brown Jr.              6\n",
       "144   James D. Halsell Jr.              5\n",
       "27            John E. Blaha             5\n",
       "315       Norman E. Thagard             5"
      ]
     },
     "execution_count": 28,
     "metadata": {},
     "output_type": "execute_result"
    }
   ],
   "source": [
    "# GIVEN CODE:\n",
    "#Sorting:\n",
    "astro[['Name','MissionCount']].sort_values(by = 'MissionCount',ascending = False).head(10)"
   ]
  },
  {
   "cell_type": "markdown",
   "metadata": {},
   "source": [
    "## CHALLENGE: What's the most popular first name for astronauts?"
   ]
  },
  {
   "cell_type": "code",
   "execution_count": 29,
   "metadata": {},
   "outputs": [
    {
     "data": {
      "text/plain": [
       "First Name\n",
       "Michael    16\n",
       "James      15\n",
       "John       13\n",
       "Robert     12\n",
       "William    12\n",
       "Name: First Name, dtype: int64"
      ]
     },
     "execution_count": 29,
     "metadata": {},
     "output_type": "execute_result"
    }
   ],
   "source": [
    "# MY CODE:\n",
    "first_name = astro.groupby(['First Name'])['First Name'].count().nlargest(5)\n",
    "first_name"
   ]
  },
  {
   "cell_type": "code",
   "execution_count": 30,
   "metadata": {},
   "outputs": [
    {
     "data": {
      "text/html": [
       "<div>\n",
       "<style scoped>\n",
       "    .dataframe tbody tr th:only-of-type {\n",
       "        vertical-align: middle;\n",
       "    }\n",
       "\n",
       "    .dataframe tbody tr th {\n",
       "        vertical-align: top;\n",
       "    }\n",
       "\n",
       "    .dataframe thead tr th {\n",
       "        text-align: left;\n",
       "    }\n",
       "\n",
       "    .dataframe thead tr:last-of-type th {\n",
       "        text-align: right;\n",
       "    }\n",
       "</style>\n",
       "<table border=\"1\" class=\"dataframe\">\n",
       "  <thead>\n",
       "    <tr>\n",
       "      <th></th>\n",
       "      <th>len</th>\n",
       "    </tr>\n",
       "    <tr>\n",
       "      <th></th>\n",
       "      <th>Count of Name</th>\n",
       "    </tr>\n",
       "    <tr>\n",
       "      <th>First Name</th>\n",
       "      <th></th>\n",
       "    </tr>\n",
       "  </thead>\n",
       "  <tbody>\n",
       "    <tr>\n",
       "      <th>Michael</th>\n",
       "      <td>16</td>\n",
       "    </tr>\n",
       "    <tr>\n",
       "      <th>James</th>\n",
       "      <td>15</td>\n",
       "    </tr>\n",
       "    <tr>\n",
       "      <th>John</th>\n",
       "      <td>13</td>\n",
       "    </tr>\n",
       "    <tr>\n",
       "      <th>William</th>\n",
       "      <td>12</td>\n",
       "    </tr>\n",
       "    <tr>\n",
       "      <th>Robert</th>\n",
       "      <td>12</td>\n",
       "    </tr>\n",
       "  </tbody>\n",
       "</table>\n",
       "</div>"
      ],
      "text/plain": [
       "                     len\n",
       "           Count of Name\n",
       "First Name              \n",
       "Michael               16\n",
       "James                 15\n",
       "John                  13\n",
       "William               12\n",
       "Robert                12"
      ]
     },
     "execution_count": 30,
     "metadata": {},
     "output_type": "execute_result"
    }
   ],
   "source": [
    "# MY CODE:\n",
    "firstname_pivot = astro.pivot_table(index=['First Name'], values=['Name'], aggfunc=[len])\n",
    "firstname_pivot = firstname_pivot.rename(columns={'Name' : 'Count of Name'})\n",
    "firstname_pivot = firstname_pivot.sort_values(by=[('len', 'Count of Name')], ascending=False)\n",
    "\n",
    "firstname_pivot.head()"
   ]
  },
  {
   "cell_type": "markdown",
   "metadata": {},
   "source": [
    "## CHALLENGE: Which university has hosted the most astronauts?"
   ]
  },
  {
   "cell_type": "code",
   "execution_count": 31,
   "metadata": {},
   "outputs": [
    {
     "name": "stdout",
     "output_type": "stream",
     "text": [
      "                                 Uni\n",
      "0  Air Force Institute of Technology\n",
      "1  Air Force Institute of Technology\n",
      "2  Air Force Institute of Technology\n",
      "3  Air Force Institute of Technology\n",
      "4  Air Force Institute of Technology\n",
      "5  Air Force Institute of Technology\n",
      "6                    Amherst College\n",
      "7                    Amherst College\n",
      "8                  Auburn University\n",
      "9                  Auburn University\n"
     ]
    }
   ],
   "source": [
    "# MY CODE:\n",
    "\n",
    "# Why can't I use the line below? I could use it in a similar way in cell 21 (first part of Feature Engineering).\n",
    "# Cell 21 was list comprehension creating a dataframe column, this example is creating a list\n",
    "# unis = [x.split(\";\").strip() for x in astro['Alma Mater'].astype(str)]\n",
    "\n",
    "unis = [x.split(\";\") for x in astro['Alma Mater'].astype(str)]\n",
    "all_unis=[]\n",
    "while unis:\n",
    "    all_unis.extend(unis.pop(0))\n",
    "all_unis = [x.strip() for x in all_unis]\n",
    "# Sorting just makes it easier to eyeball the data and verify that the above logic has worked correctly\n",
    "all_unis.sort()\n",
    "\n",
    "all_unis_df = pd.DataFrame(data=all_unis, columns=['Uni'])\n",
    "print(all_unis_df.head(10))"
   ]
  },
  {
   "cell_type": "code",
   "execution_count": 32,
   "metadata": {},
   "outputs": [
    {
     "data": {
      "text/plain": [
       "Uni\n",
       "US Naval Academy                52\n",
       "US Air Force Academy            38\n",
       "MIT                             36\n",
       "US Naval Postgraduate School    32\n",
       "Purdue University               23\n",
       "Name: Uni, dtype: int64"
      ]
     },
     "execution_count": 32,
     "metadata": {},
     "output_type": "execute_result"
    }
   ],
   "source": [
    "# MY CODE:\n",
    "all_unis_grouped = all_unis_df.groupby('Uni')['Uni'].count().nlargest(5)\n",
    "all_unis_grouped"
   ]
  },
  {
   "cell_type": "code",
   "execution_count": 33,
   "metadata": {},
   "outputs": [
    {
     "name": "stdout",
     "output_type": "stream",
     "text": [
      "Air Force Institute of Technology\n",
      "US Air Force Academy\n",
      "US Air Force Institute of Technology\n",
      "US Army War College\n",
      "US Coast Guard Academy\n",
      "US Merchant Marine Academy\n",
      "US Military Academy\n",
      "US Naval Academy\n",
      "US Naval Postgraduate School\n",
      "US Naval War College\n"
     ]
    }
   ],
   "source": [
    "# MY CODE:\n",
    "# As astronauts would likely come from a military background they would all attend a military college/university\n",
    "# I think the question is more interested in civilian universities\n",
    "# Therefore, re-do the analysis this time removing military colleges\n",
    "\n",
    "# Air Force Institute of Technology is in the data with and without the 'US' prefix. I want to remove both\n",
    "Military_Colleges = all_unis_df[all_unis_df['Uni'].str.contains('US|Air Force')].drop_duplicates()\n",
    "Military_Colleges = list(Military_Colleges.values.flatten())\n",
    "\n",
    "# Print out the Military colleges to eyeball check them\n",
    "for c in Military_Colleges:\n",
    "    print(c)"
   ]
  },
  {
   "cell_type": "code",
   "execution_count": 34,
   "metadata": {},
   "outputs": [
    {
     "name": "stdout",
     "output_type": "stream",
     "text": [
      "                        Uni\n",
      "6           Amherst College\n",
      "7           Amherst College\n",
      "8         Auburn University\n",
      "9         Auburn University\n",
      "10        Auburn University\n",
      "11        Auburn University\n",
      "12        Auburn University\n",
      "13        Auburn University\n",
      "14  Baldwin Wallace College\n",
      "15        Baylor University\n",
      "\n",
      "Check this has worked, the following should produce no rows\n",
      "Empty DataFrame\n",
      "Columns: [Uni]\n",
      "Index: []\n"
     ]
    }
   ],
   "source": [
    "# MY CODE:\n",
    "all_civilian_unis_df = all_unis_df[~all_unis_df['Uni'].isin(Military_Colleges)]\n",
    "print(all_civilian_unis_df.head(10))\n",
    "print()\n",
    "check_military_Colleges = all_civilian_unis_df[all_civilian_unis_df['Uni'].str.contains('US|Air Force')].drop_duplicates()\n",
    "print(\"Check this has worked, the following should produce no rows\")\n",
    "print(check_military_Colleges)"
   ]
  },
  {
   "cell_type": "code",
   "execution_count": 35,
   "metadata": {},
   "outputs": [
    {
     "data": {
      "text/plain": [
       "Uni\n",
       "MIT                                   36\n",
       "Purdue University                     23\n",
       "Stanford University                   22\n",
       "University of Colorado                16\n",
       "Georgia Institute of Technology       14\n",
       "University of Texas                   13\n",
       "California Institute of Technology    11\n",
       "University of Washington              11\n",
       "University of Southern California     10\n",
       "Cornell University                     9\n",
       "Name: Uni, dtype: int64"
      ]
     },
     "execution_count": 35,
     "metadata": {},
     "output_type": "execute_result"
    }
   ],
   "source": [
    "# MY CODE:\n",
    "all_civilian_unis_grouped = all_civilian_unis_df.groupby('Uni')['Uni'].count().nlargest(10)\n",
    "all_civilian_unis_grouped"
   ]
  },
  {
   "cell_type": "code",
   "execution_count": null,
   "metadata": {},
   "outputs": [],
   "source": []
  }
 ],
 "metadata": {
  "kernelspec": {
   "display_name": "Python 3",
   "language": "python",
   "name": "python3"
  },
  "language_info": {
   "codemirror_mode": {
    "name": "ipython",
    "version": 3
   },
   "file_extension": ".py",
   "mimetype": "text/x-python",
   "name": "python",
   "nbconvert_exporter": "python",
   "pygments_lexer": "ipython3",
   "version": "3.6.5"
  }
 },
 "nbformat": 4,
 "nbformat_minor": 2
}
